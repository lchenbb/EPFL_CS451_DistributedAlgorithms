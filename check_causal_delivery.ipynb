{
 "cells": [
  {
   "cell_type": "code",
   "execution_count": 1,
   "metadata": {},
   "outputs": [
    {
     "data": {
      "text/plain": [
       "'\\nName: check_causal_delivery.py\\nAuthor: Liangwei Chen\\nCreate Time: 06/12/2018\\nLast Modified Time: 07/12/2018\\n'"
      ]
     },
     "execution_count": 1,
     "metadata": {},
     "output_type": "execute_result"
    }
   ],
   "source": [
    "\"\"\"\n",
    "Name: check_causal_delivery.py\n",
    "Author: Liangwei Chen\n",
    "Create Time: 06/12/2018\n",
    "Last Modified Time: 07/12/2018\n",
    "\"\"\""
   ]
  },
  {
   "cell_type": "code",
   "execution_count": 2,
   "metadata": {},
   "outputs": [],
   "source": [
    "import os\n",
    "import linecache\n",
    "import numpy as np\n",
    "import pandas as pd\n",
    "from collections import defaultdict"
   ]
  },
  {
   "cell_type": "markdown",
   "metadata": {},
   "source": [
    "# Helpers "
   ]
  },
  {
   "cell_type": "code",
   "execution_count": 3,
   "metadata": {},
   "outputs": [],
   "source": [
    "# Step 1: Get causality\n",
    "def get_peer_dependency(host_file):\n",
    "    \"\"\"\n",
    "    Get dependency list\n",
    "    Params: host_file: str\n",
    "    Return: peer_dependencies: list(list)\n",
    "    \"\"\"\n",
    "    \n",
    "    linecache.clearcache()\n",
    "    \n",
    "    # Get number of peers\n",
    "    num_peers = int(linecache.getline(host_file, 1))\n",
    "    \n",
    "    # Get dependency for each peer\n",
    "    dependencies = [linecache.getline(host_file, num_peers + 2 + i) for i in np.arange(num_peers)]\n",
    "\n",
    "    # Parse dependency\n",
    "    dep_map = map(lambda x: x.rsplit('\\n')[0].rstrip().split(' '), dependencies)\n",
    "\n",
    "    peer_dependency_list = list(map(lambda line: list(map(lambda x: int(x), line)), dep_map))\n",
    "    \n",
    "    return peer_dependency_list"
   ]
  },
  {
   "cell_type": "code",
   "execution_count": 18,
   "metadata": {},
   "outputs": [],
   "source": [
    "# Step 2: build msg dependencies\n",
    "def get_msg_dependency(target, peer_dependency_list):\n",
    "    \"\"\"\n",
    "    Obtain msg dependency of target using peer dependency in host file\n",
    "    Params: target: int\n",
    "            peer_dependency_list: list\n",
    "    Return: msg_dependency: dict(set(str))\n",
    "    \"\"\"\n",
    "    \n",
    "    peer_dependency = peer_dependency_list[target - 1]\n",
    "    log_file = \"da_proc_{0}.log\".format(target)\n",
    "    history = set()\n",
    "    msg_dependency = defaultdict(set)\n",
    "\n",
    "    with open(log_file) as f:\n",
    "        # Preprocess line\n",
    "        lines = f.readlines()\n",
    "        lines = list(map(lambda x: x.rsplit('\\n')[0], lines))\n",
    "\n",
    "        for line in lines:\n",
    "\n",
    "            if line[0] == 'b':\n",
    "\n",
    "                # Add broadcast msg to dependency\n",
    "                msg_dependency[str(target) + line.split(' ')[1]] = history.copy()\n",
    "                history.add(str(target) + line.split(' ')[1])\n",
    "                continue\n",
    "\n",
    "            if line[0] == 'd':\n",
    "                root = int(line.split(' ')[1])\n",
    "                if root in peer_dependency and root != target:\n",
    "\n",
    "                    # Add dependent msg to history\n",
    "                    history.add(line.split(' ')[1] + line.split(' ')[2])\n",
    "                    continue\n",
    "                    \n",
    "    return msg_dependency"
   ]
  },
  {
   "cell_type": "code",
   "execution_count": 52,
   "metadata": {},
   "outputs": [],
   "source": [
    "# Step 3: Get delivery sequence\n",
    "def get_deliver_seq(target):\n",
    "    \"\"\"\n",
    "    Obtain deliver sequence\n",
    "    Params: target: int\n",
    "    Return: deliver_seq: list(str)\n",
    "    \"\"\"\n",
    "\n",
    "    log_file = \"da_proc_{0}.out\".format(target)\n",
    "\n",
    "    with open(log_file, \"r\") as f:\n",
    "        lines = f.readlines()\n",
    "        deliver_seq = list(map(lambda line: line.rsplit('\\n')[0].split(' ')[1] +\\\n",
    "                                             line.rsplit('\\n')[0].split(' ')[2],\n",
    "                             filter(lambda x: x[0] == 'd', lines)))\n",
    "    return deliver_seq"
   ]
  },
  {
   "cell_type": "code",
   "execution_count": 53,
   "metadata": {},
   "outputs": [],
   "source": [
    "# Step 3.5: Store msg_dependency and delivery sequence\n",
    "def get_data(peer_dependency_list):\n",
    "    \"\"\"\n",
    "    Get delivery and dependency data for each process\n",
    "    Params: peer_dependency_list: list\n",
    "    Return: delivery: dict(list)\n",
    "            msg_dependencies: dict(dict(set))\n",
    "    \"\"\"\n",
    "    \n",
    "    delivery = dict()\n",
    "    msg_dependencies = dict()\n",
    "    num_peers = len(peer_dependency_list)\n",
    "    \n",
    "    for peer in np.arange(1, num_peers + 1):\n",
    "        delivery[peer] = get_deliver_seq(peer)\n",
    "        msg_dependencies[peer] = get_msg_dependency(peer, peer_dependency_list)\n",
    "        \n",
    "    return delivery, msg_dependencies"
   ]
  },
  {
   "cell_type": "code",
   "execution_count": 71,
   "metadata": {},
   "outputs": [],
   "source": [
    "# Step 4: Check validity\n",
    "def check_causal_locality(delivery, msg_dependencies):\n",
    "    \"\"\"\n",
    "    Check causal locality of broadcast\n",
    "    Params: delivery: dict(list)\n",
    "            msg_dependencies: dict(dict(set))\n",
    "    Return: validity: bool\n",
    "    \"\"\"\n",
    "    \n",
    "    for i, test_delivery in enumerate(delivery.values()):\n",
    "        # Go through all delivery seq\n",
    "        \n",
    "        print(\"checking \", i + 1, \" len:\")\n",
    "        print(len(test_delivery))\n",
    "        for test_msg_dependency in msg_dependencies.values():\n",
    "            # Go through all dependencies\n",
    "            \n",
    "            for test_msg in test_msg_dependency.keys():\n",
    "                # Check causality for each msg delivery\n",
    "                causal_msg = test_msg_dependency[test_msg]\n",
    "\n",
    "                # Check for delivery of causal msg before delivering test msg\n",
    "                if len(set(causal_msg).difference(set(test_delivery[: test_delivery.index(test_msg)]))) > 0:\n",
    "                    return False\n",
    "    return True"
   ]
  },
  {
   "cell_type": "code",
   "execution_count": 72,
   "metadata": {},
   "outputs": [],
   "source": [
    "# Step 5: Validate correctness of testing functionality\n",
    "\n",
    "# Build wrong example\n",
    "test_msg_dependency = dict()\n",
    "test_msg_dependency[2] = set([1])\n",
    "test_msg_dependency[3] = set([1, 2])\n",
    "test_msg_dependency[4] = set([1, 2, 3])\n",
    "\n",
    "test_delivery = [3, 1, 2, 4]"
   ]
  },
  {
   "cell_type": "code",
   "execution_count": 73,
   "metadata": {},
   "outputs": [
    {
     "name": "stdout",
     "output_type": "stream",
     "text": [
      "Error\n"
     ]
    }
   ],
   "source": [
    "for test_msg in test_msg_dependency.keys():\n",
    "\n",
    "    causal_msg = test_msg_dependency[test_msg]\n",
    "\n",
    "    # Check for delivery of causal msg before delivering test msg\n",
    "    if len(set(causal_msg).difference(set(test_delivery[: test_delivery.index(test_msg)]))) > 0:\n",
    "        print(\"Error\")"
   ]
  },
  {
   "cell_type": "markdown",
   "metadata": {},
   "source": [
    "# Main func"
   ]
  },
  {
   "cell_type": "code",
   "execution_count": 74,
   "metadata": {},
   "outputs": [],
   "source": [
    "def main():\n",
    "    \"\"\"\n",
    "    Check causal locality \n",
    "    Params: \n",
    "    Return:\n",
    "    \"\"\"\n",
    "    \n",
    "    host_file = \"membership\"\n",
    "    \n",
    "    peer_dependency_list = get_peer_dependency(host_file)\n",
    "    \n",
    "    delivery, msg_dependencies = get_data(peer_dependency_list)\n",
    "    \n",
    "    result = check_causal_locality(delivery, msg_dependencies)\n",
    "    \n",
    "    if result:\n",
    "        print(\"Causal locality delivery satisfied\")\n",
    "    else:\n",
    "        print(\"Fail to satisfy causal locality\")"
   ]
  },
  {
   "cell_type": "code",
   "execution_count": 80,
   "metadata": {},
   "outputs": [
    {
     "name": "stdout",
     "output_type": "stream",
     "text": [
      "checking  1  len:\n",
      "250\n",
      "checking  2  len:\n",
      "250\n",
      "checking  3  len:\n",
      "250\n",
      "checking  4  len:\n",
      "250\n",
      "checking  5  len:\n",
      "250\n",
      "Causal locality delivery satisfied\n"
     ]
    }
   ],
   "source": [
    "main()"
   ]
  },
  {
   "cell_type": "code",
   "execution_count": null,
   "metadata": {},
   "outputs": [],
   "source": []
  },
  {
   "cell_type": "code",
   "execution_count": null,
   "metadata": {},
   "outputs": [],
   "source": []
  }
 ],
 "metadata": {
  "kernelspec": {
   "display_name": "Python 3",
   "language": "python",
   "name": "python3"
  },
  "language_info": {
   "codemirror_mode": {
    "name": "ipython",
    "version": 3
   },
   "file_extension": ".py",
   "mimetype": "text/x-python",
   "name": "python",
   "nbconvert_exporter": "python",
   "pygments_lexer": "ipython3",
   "version": "3.6.5"
  }
 },
 "nbformat": 4,
 "nbformat_minor": 2
}
